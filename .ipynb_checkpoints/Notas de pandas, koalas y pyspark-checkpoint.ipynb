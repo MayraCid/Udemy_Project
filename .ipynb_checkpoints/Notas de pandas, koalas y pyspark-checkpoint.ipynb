{
 "cells": [
  {
   "cell_type": "markdown",
   "id": "6c31d695",
   "metadata": {},
   "source": [
    "Notas de pandas, koalas y pyspark en los notebooks de comparación"
   ]
  },
  {
   "cell_type": "markdown",
   "id": "64912e1f",
   "metadata": {},
   "source": [
    "# Pandas"
   ]
  },
  {
   "cell_type": "code",
   "execution_count": null,
   "id": "f38cbf77",
   "metadata": {},
   "outputs": [],
   "source": [
    "#Cuantos subscritores hubo por año\n",
    "\n",
    "#ub= New_Udemy_DF.groupby(by='year_update', as_index=False).agg({'num_subscribers': pd.Series.nunique})\n",
    "sub.head(3)\n",
    "\n",
    "#Ordenando por número de subscritores DESC\n",
    "#New_Udemy_DF = Udemy_DF.sort_values(by = 'num_subscribers', ascending = False)\n",
    "#New_Udemy_DF.head(10)"
   ]
  },
  {
   "cell_type": "code",
   "execution_count": null,
   "id": "a7ccac7b",
   "metadata": {},
   "outputs": [],
   "source": [
    "#Vamos a analizar el año en el que aumentaron los cursos, 2021\n",
    "New_Udemy_DF[New_Udemy_DF.published_time].sort_index(ascending = True)"
   ]
  },
  {
   "cell_type": "code",
   "execution_count": null,
   "id": "1bac8cc5",
   "metadata": {},
   "outputs": [],
   "source": [
    "New_Udemy_DF[New_Udemy_DF.año]\n",
    "#Categorias.head(5)"
   ]
  },
  {
   "cell_type": "code",
   "execution_count": null,
   "id": "25600cc4",
   "metadata": {},
   "outputs": [],
   "source": [
    "Grupos = Udemy_DF.groupby('category')[\"id\"].value_counts()\n",
    "Grupos.head(3)"
   ]
  },
  {
   "cell_type": "code",
   "execution_count": null,
   "id": "2f7b4b2a",
   "metadata": {},
   "outputs": [],
   "source": [
    "result = Udemy_DF.groupby(by='category', as_index=False).agg({'id': pd.Series.nunique})\n",
    "print(result)"
   ]
  },
  {
   "cell_type": "code",
   "execution_count": null,
   "id": "2f0fd0a2",
   "metadata": {},
   "outputs": [],
   "source": [
    "Udemy_DF.set_index([\"category\"])"
   ]
  },
  {
   "cell_type": "markdown",
   "id": "238edc83",
   "metadata": {},
   "source": [
    "# Koalas"
   ]
  },
  {
   "cell_type": "markdown",
   "id": "4ddd3b3f",
   "metadata": {},
   "source": [
    "Para que pueda compilar cmabia el spark_python por la ruta del python.exe del ambiente de koalas "
   ]
  },
  {
   "cell_type": "markdown",
   "id": "0ce61574",
   "metadata": {},
   "source": [
    "Podría usar los de abajo pero chocan mis versiones de python\n",
    "Udemy_DF.isnull().sum()\n",
    "Udemy_DF[Udemy_DF['headline'].isnull]\n",
    "Python in worker has different version 3.10 than that in driver 3.7, PySpark cannot run with different minor versions. \n",
    "Please check environment variables PYSPARK_PYTHON and PYSPARK_DRIVER_PYTHON are correctly set."
   ]
  },
  {
   "cell_type": "markdown",
   "id": "828dd1cf",
   "metadata": {},
   "source": [
    "# Pyspark\n"
   ]
  },
  {
   "cell_type": "code",
   "execution_count": null,
   "id": "1794e36b",
   "metadata": {},
   "outputs": [],
   "source": [
    "#Podemos ver los elementos nulos, ya sea por columna o id\n",
    "Udemy_DF_year.filter(Udemy_DF_year.instructor_url.isNull()).show(4)\n",
    "#Udemy_DF_year.filter(Udemy_DF_year.id == '205502').show()"
   ]
  },
  {
   "cell_type": "code",
   "execution_count": null,
   "id": "f99f148e",
   "metadata": {},
   "outputs": [],
   "source": [
    "#También se puede eliminar por columna definiendo subset"
   ]
  },
  {
   "cell_type": "code",
   "execution_count": null,
   "id": "97378d12",
   "metadata": {},
   "outputs": [],
   "source": [
    "#Notas: el primero solo nos da un query más no un DF para ello ocupo lo que tengo arriba\n",
    "#category = New_Udemy_DF.select(\"category\")\\\n",
    "    #   .groupBy(\"category\")\\\n",
    "    #   .count()\\\n",
    "    #   .orderBy(\"count\", ascending = False)\\\n",
    "    #   .show()\n",
    "\n",
    "#Para ver si algo es un dataframe ocupamos\n",
    "#print(isinstance(df4, DataFrame))"
   ]
  }
 ],
 "metadata": {
  "kernelspec": {
   "display_name": "Python 3 (ipykernel)",
   "language": "python",
   "name": "python3"
  },
  "language_info": {
   "codemirror_mode": {
    "name": "ipython",
    "version": 3
   },
   "file_extension": ".py",
   "mimetype": "text/x-python",
   "name": "python",
   "nbconvert_exporter": "python",
   "pygments_lexer": "ipython3",
   "version": "3.9.15"
  }
 },
 "nbformat": 4,
 "nbformat_minor": 5
}
