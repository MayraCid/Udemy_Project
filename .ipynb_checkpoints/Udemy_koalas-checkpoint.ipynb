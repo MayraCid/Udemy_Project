{
 "cells": [
  {
   "cell_type": "markdown",
   "id": "7a501657",
   "metadata": {},
   "source": [
    "Primer warning\n",
    "\n",
    "***import databricks.koalas as ks***\n",
    "\n",
    "Ya no tiene soporte a partir de pyspark 3.2 ya que pyspark ya la incluye en las versiones de \n",
    "3.3 como un modulo integrado de ***\"API de pandas en Spark\" portado desde Koalas.***\n",
    "Por lo que en su lugar se utiliza:\n",
    "\n",
    "***import pyspark.pandas as ps***\n",
    "\n",
    "Segundo Warning\n",
    "\n",
    "No se configuró la variable de entorno raíz: ***'PYARROW_IGNORE_TIMEZONE'***. Es necesario establecer esta variable de entorno en '1' tanto en el lado del controlador como en el del ejecutor si usa pyarrow>=2.0.0. Koalas lo configurará por usted, pero no funciona si ya se ha iniciado un Sparkcontext\n"
   ]
  },
  {
   "cell_type": "code",
   "execution_count": 3,
   "id": "414735f8",
   "metadata": {},
   "outputs": [],
   "source": [
    "import os\n",
    "os.environ[\"PYARROW_IGNORE_TIMEZONE\"] = \"1\"\n",
    "import pyspark.pandas as ps"
   ]
  },
  {
   "cell_type": "code",
   "execution_count": null,
   "id": "ba66fa50",
   "metadata": {},
   "outputs": [],
   "source": []
  }
 ],
 "metadata": {
  "kernelspec": {
   "display_name": "Python 3 (ipykernel)",
   "language": "python",
   "name": "python3"
  },
  "language_info": {
   "codemirror_mode": {
    "name": "ipython",
    "version": 3
   },
   "file_extension": ".py",
   "mimetype": "text/x-python",
   "name": "python",
   "nbconvert_exporter": "python",
   "pygments_lexer": "ipython3",
   "version": "3.9.15"
  }
 },
 "nbformat": 4,
 "nbformat_minor": 5
}
