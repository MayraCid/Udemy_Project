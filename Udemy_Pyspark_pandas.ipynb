{
 "cells": [
  {
   "cell_type": "markdown",
   "id": "7a501657",
   "metadata": {},
   "source": [
    "First warning\n",
    "\n",
    "***import databricks.koalas as ks***\n",
    "\n",
    "Ya no tiene soporte a partir de pyspark 3.2 ya que pyspark ya la incluye en las versiones de \n",
    "3.3 como un modulo integrado de ***\"API de pandas en Spark\" portado desde Koalas.***\n",
    "Por lo que en su lugar se utiliza:\n",
    "\n",
    "***import pyspark.pandas as ps***\n",
    "\n",
    "Second Warning\n",
    "\n",
    "No se configuró la variable de entorno raíz: ***'PYARROW_IGNORE_TIMEZONE'***. Es necesario establecer esta variable de entorno en '1' tanto en el lado del controlador como en el del ejecutor si usa pyarrow>=2.0.0. Koalas lo configurará por usted, pero no funciona si ya se ha iniciado un Sparkcontext\n"
   ]
  },
  {
   "cell_type": "code",
   "execution_count": 1,
   "id": "414735f8",
   "metadata": {},
   "outputs": [],
   "source": [
    "import os\n",
    "os.environ[\"PYARROW_IGNORE_TIMEZONE\"] = \"1\"\n",
    "import pyspark.pandas as ps"
   ]
  },
  {
   "cell_type": "markdown",
   "id": "f4ef020e",
   "metadata": {},
   "source": [
    "Se le asigna indices al Dataframe empezando desde 0 y podemos definir una columna del dataset para usarla como indice    \n",
    "(cualquier columna) para ello utilizamos index_col. De lo contario, si no se especifica, se puede adjuntar el indice predeterminado, lo cual puede causar\n",
    "una sobrecarga adicional. \n",
    "ESTO TAMBIÉN PUEDE APLICAR EN PANDAS\n",
    "Aqui no lo use porque después no me deja operar sobre esa columna"
   ]
  },
  {
   "cell_type": "code",
   "execution_count": 2,
   "id": "ba66fa50",
   "metadata": {},
   "outputs": [
    {
     "name": "stdout",
     "output_type": "stream",
     "text": [
      "CPU times: total: 78.1 ms\n",
      "Wall time: 10.4 s\n"
     ]
    },
    {
     "name": "stderr",
     "output_type": "stream",
     "text": [
      "C:\\Users\\mayra.cid\\Anaconda3\\envs\\Udemy_osos\\lib\\site-packages\\pyspark\\pandas\\utils.py:975: PandasAPIOnSparkAdviceWarning: If `index_col` is not specified for `read_csv`, the default index is attached which can cause additional overhead.\n",
      "  warnings.warn(message, PandasAPIOnSparkAdviceWarning)\n"
     ]
    },
    {
     "data": {
      "text/plain": [
       "id                           float64\n",
       "title                         object\n",
       "is_paid                         bool\n",
       "price                        float64\n",
       "headline                      object\n",
       "num_subscribers              float64\n",
       "avg_rating                   float64\n",
       "num_reviews                  float64\n",
       "num_comments                 float64\n",
       "num_lectures                 float64\n",
       "content_length_min           float64\n",
       "published_time        datetime64[ns]\n",
       "last_update_date      datetime64[ns]\n",
       "category                      object\n",
       "subcategory                   object\n",
       "topic                         object\n",
       "language                      object\n",
       "course_url                    object\n",
       "instructor_name               object\n",
       "instructor_url                object\n",
       "dtype: object"
      ]
     },
     "execution_count": 2,
     "metadata": {},
     "output_type": "execute_result"
    }
   ],
   "source": [
    "%%time\n",
    "#Todos menos content_length_min y id Float) son objetc\n",
    "Udemy_DF = ps.read_csv('C:/Users/mayra.cid/Documents/Repositorios/Udemy_Dataset/Course_info.csv', quotechar='\"',escapechar='\"')\n",
    "Udemy_DF.dtypes\n",
    "#Udemy_DF.head(5)"
   ]
  },
  {
   "cell_type": "code",
   "execution_count": null,
   "id": "071e6bb9",
   "metadata": {},
   "outputs": [],
   "source": [
    "%%time\n",
    "#Cambio del tipo de dato\n",
    "Udemy_DF['id'] = Udemy_DF['id'].astype('int64') \n",
    "Udemy_DF['is_paid'] = Udemy_DF['is_paid'].astype('bool')\n",
    "Udemy_DF['price'] = Udemy_DF['price'].astype('float')\n",
    "Udemy_DF['num_subscribers'] = Udemy_DF['num_subscribers'].astype('int64')\n",
    "Udemy_DF['avg_rating'] =  Udemy_DF['avg_rating']. astype('float')\n",
    "Udemy_DF['num_reviews'] = Udemy_DF['num_reviews'].astype('int64')\n",
    "Udemy_DF['num_comments'] = Udemy_DF['num_comments'].astype('int64')\n",
    "Udemy_DF['num_lectures'] = Udemy_DF['num_lectures'].astype('int64')\n",
    "#Udemy_DF['content_length_min'] = Udemy_DF['content_length_min'].astype('int64')\n",
    "\n",
    "#Udemy_DF['published_time'] = Udemy_DF['published_time'].astype('datetime')\n",
    "#Udemy_DF['published_time'] = ps.to_datetime(Udemy_DF['published_time'])\n",
    "#Udemy_DF['last_update_date'] = Udemy_DF['last_update_date'].astype('datetime')\n",
    "#Udemy_DF['last_update_date'] = ps.to_datetime(Udemy_DF['last_update_date'])\n",
    "#Udemy_DF['last_update_date'] = Udemy_DF['last_update_date'].astype('string')\n",
    "\n",
    "\n",
    "Udemy_DF.dtypes\n",
    "#Udemy_DF.head(19)"
   ]
  },
  {
   "cell_type": "code",
   "execution_count": null,
   "id": "365d1e04",
   "metadata": {},
   "outputs": [],
   "source": [
    "Udemy_DF.head(2)"
   ]
  },
  {
   "cell_type": "code",
   "execution_count": null,
   "id": "ab3c7a21",
   "metadata": {},
   "outputs": [],
   "source": [
    "def conv_fecha(fecha):\n",
    "    f=str(fecha)\n",
    "    if f != '<NA>' or f != 'NaT':\n",
    "        d = f[:10] +' ' +f[11:-1]\n",
    "    else:\n",
    "        d='NaT'\n",
    "    return ps.to_datetime(d,errors='coerce')"
   ]
  },
  {
   "cell_type": "code",
   "execution_count": null,
   "id": "ea0ec1fb",
   "metadata": {},
   "outputs": [],
   "source": [
    "Udemy_DF['published_time']=Udemy_DF['published_time'].map(conv_fecha)"
   ]
  },
  {
   "cell_type": "code",
   "execution_count": null,
   "id": "a77bf9a3",
   "metadata": {},
   "outputs": [],
   "source": []
  },
  {
   "cell_type": "code",
   "execution_count": null,
   "id": "3d155731",
   "metadata": {},
   "outputs": [],
   "source": [
    "Udemy_DF.dtypes"
   ]
  },
  {
   "cell_type": "code",
   "execution_count": null,
   "id": "5a94f9e0",
   "metadata": {},
   "outputs": [],
   "source": [
    "Udemy_DF.head(2)"
   ]
  },
  {
   "cell_type": "code",
   "execution_count": null,
   "id": "030e26e0",
   "metadata": {},
   "outputs": [],
   "source": []
  }
 ],
 "metadata": {
  "kernelspec": {
   "display_name": "Python 3 (ipykernel)",
   "language": "python",
   "name": "python3"
  },
  "language_info": {
   "codemirror_mode": {
    "name": "ipython",
    "version": 3
   },
   "file_extension": ".py",
   "mimetype": "text/x-python",
   "name": "python",
   "nbconvert_exporter": "python",
   "pygments_lexer": "ipython3",
   "version": "3.9.15"
  }
 },
 "nbformat": 4,
 "nbformat_minor": 5
}
