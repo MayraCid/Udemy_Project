{
 "cells": [
  {
   "cell_type": "code",
   "execution_count": 3,
   "id": "51b3d35e",
   "metadata": {},
   "outputs": [],
   "source": [
    "import pandas as pd\n",
    "import time\n",
    "from matplotlib import pyplot as plt\n",
    "import datetime"
   ]
  },
  {
   "cell_type": "code",
   "execution_count": 8,
   "id": "e1f4a232",
   "metadata": {},
   "outputs": [
    {
     "name": "stdout",
     "output_type": "stream",
     "text": [
      "CPU times: total: 2.23 s\n",
      "Wall time: 2.23 s\n"
     ]
    },
    {
     "data": {
      "text/plain": [
       "id                    float64\n",
       "title                  object\n",
       "is_paid                  bool\n",
       "price                 float64\n",
       "headline               object\n",
       "num_subscribers       float64\n",
       "avg_rating            float64\n",
       "num_reviews           float64\n",
       "num_comments          float64\n",
       "num_lectures          float64\n",
       "content_length_min    float64\n",
       "published_time         object\n",
       "last_update_date       object\n",
       "category               object\n",
       "subcategory            object\n",
       "topic                  object\n",
       "language               object\n",
       "course_url             object\n",
       "instructor_name        object\n",
       "instructor_url         object\n",
       "dtype: object"
      ]
     },
     "execution_count": 8,
     "metadata": {},
     "output_type": "execute_result"
    }
   ],
   "source": [
    "%%time\n",
    "Udemy_DF = pd.read_csv('C:/Users/mayra.cid/Documents/Repositorios/Udemy_Dataset/Course_info.csv')\n",
    "#Tipo de dato por columna\n",
    "Udemy_DF.dtypes\n",
    "#Udemy_DF.head(5)"
   ]
  },
  {
   "cell_type": "code",
   "execution_count": 5,
   "id": "8cec3f47",
   "metadata": {},
   "outputs": [
    {
     "name": "stdout",
     "output_type": "stream",
     "text": [
      "CPU times: total: 344 ms\n",
      "Wall time: 359 ms\n"
     ]
    },
    {
     "data": {
      "text/plain": [
       "id                                  int64\n",
       "title                              object\n",
       "is_paid                              bool\n",
       "price                             float64\n",
       "headline                           object\n",
       "num_subscribers                     int64\n",
       "avg_rating                        float64\n",
       "num_reviews                         int64\n",
       "num_comments                        int64\n",
       "num_lectures                        int64\n",
       "content_length_min                  int64\n",
       "published_time        datetime64[ns, UTC]\n",
       "last_update_date           datetime64[ns]\n",
       "category                           object\n",
       "subcategory                        object\n",
       "topic                              object\n",
       "language                           object\n",
       "course_url                         object\n",
       "instructor_name                    object\n",
       "instructor_url                     object\n",
       "dtype: object"
      ]
     },
     "execution_count": 5,
     "metadata": {},
     "output_type": "execute_result"
    }
   ],
   "source": [
    "%%time\n",
    "#Cambio del tipo de dato\n",
    "Udemy_DF['id'] = Udemy_DF['id'].astype('int64') \n",
    "Udemy_DF['num_subscribers'] = Udemy_DF['num_subscribers'].astype('int64')\n",
    "Udemy_DF['num_reviews'] = Udemy_DF['num_reviews'].astype('int64')\n",
    "Udemy_DF['num_comments'] = Udemy_DF['num_comments'].astype('int64')\n",
    "Udemy_DF['num_lectures'] = Udemy_DF['num_lectures'].astype('int64')\n",
    "Udemy_DF['content_length_min'] = Udemy_DF['content_length_min'].astype('int64')\n",
    "Udemy_DF['published_time'] = pd.to_datetime(Udemy_DF['published_time'])\n",
    "Udemy_DF['last_update_date'] = pd.to_datetime(Udemy_DF['last_update_date'])\n",
    "\n",
    "Udemy_DF.dtypes\n",
    "#Udemy_DF.head(19)\n"
   ]
  },
  {
   "cell_type": "code",
   "execution_count": 7,
   "id": "783316ef",
   "metadata": {},
   "outputs": [
    {
     "name": "stdout",
     "output_type": "stream",
     "text": [
      "<class 'pandas.core.frame.DataFrame'>\n",
      "RangeIndex: 209734 entries, 0 to 209733\n",
      "Data columns (total 20 columns):\n",
      " #   Column              Non-Null Count   Dtype              \n",
      "---  ------              --------------   -----              \n",
      " 0   id                  209734 non-null  int64              \n",
      " 1   title               209734 non-null  object             \n",
      " 2   is_paid             209734 non-null  bool               \n",
      " 3   price               209734 non-null  float64            \n",
      " 4   headline            209707 non-null  object             \n",
      " 5   num_subscribers     209734 non-null  int64              \n",
      " 6   avg_rating          209734 non-null  float64            \n",
      " 7   num_reviews         209734 non-null  int64              \n",
      " 8   num_comments        209734 non-null  int64              \n",
      " 9   num_lectures        209734 non-null  int64              \n",
      " 10  content_length_min  209734 non-null  int64              \n",
      " 11  published_time      209734 non-null  datetime64[ns, UTC]\n",
      " 12  last_update_date    209597 non-null  datetime64[ns]     \n",
      " 13  category            209734 non-null  object             \n",
      " 14  subcategory         209734 non-null  object             \n",
      " 15  topic               208776 non-null  object             \n",
      " 16  language            209734 non-null  object             \n",
      " 17  course_url          209734 non-null  object             \n",
      " 18  instructor_name     209729 non-null  object             \n",
      " 19  instructor_url      209307 non-null  object             \n",
      "dtypes: bool(1), datetime64[ns, UTC](1), datetime64[ns](1), float64(2), int64(6), object(9)\n",
      "memory usage: 30.6+ MB\n"
     ]
    }
   ],
   "source": [
    "Udemy_DF.info()"
   ]
  },
  {
   "cell_type": "code",
   "execution_count": null,
   "id": "a12e2036",
   "metadata": {},
   "outputs": [],
   "source": [
    "#Insertamos una columna llamada year\n",
    "Udemy_DF[\"year_update\"] = Udemy_DF[\"published_time\"].dt.year"
   ]
  },
  {
   "cell_type": "code",
   "execution_count": null,
   "id": "6f5af590",
   "metadata": {
    "scrolled": true
   },
   "outputs": [],
   "source": [
    "%%time\n",
    "#Número de filas en el Dataframe\n",
    "print(\"El número de filas es:\", Udemy_DF.shape[0])\n",
    "#Número de columnas en el Dataframe\n",
    "print(\"El número de columnas es:\", Udemy_DF.shape[1])"
   ]
  },
  {
   "cell_type": "code",
   "execution_count": null,
   "id": "e7cbeb47",
   "metadata": {
    "scrolled": true
   },
   "outputs": [],
   "source": [
    "%%time\n",
    "#Veamos cuantos valores nulos hay en cada columna\n",
    "Udemy_DF.isnull().sum()"
   ]
  },
  {
   "cell_type": "code",
   "execution_count": null,
   "id": "e565ac5d",
   "metadata": {},
   "outputs": [],
   "source": [
    "%%time\n",
    "#Vamos a mostar aquellos que tienen datos nulos\n",
    "Udemy_DF[Udemy_DF.topic.isnull()].head(2)"
   ]
  },
  {
   "cell_type": "code",
   "execution_count": null,
   "id": "c287d82d",
   "metadata": {},
   "outputs": [],
   "source": [
    "%%time\n",
    "#Eliminando datos nulos y definiendo nuevo DF\n",
    "New_Udemy_DF = Udemy_DF.dropna()"
   ]
  },
  {
   "cell_type": "code",
   "execution_count": null,
   "id": "4fbd3409",
   "metadata": {},
   "outputs": [],
   "source": [
    "%%time\n",
    "#Corroborando que se eliminaron las filas\n",
    "#Número de filas en el Dataframe\n",
    "print(\"El número de filas es:\", New_Udemy_DF.shape[0])\n",
    "#Número de columnas en el Dataframe\n",
    "print(\"El número de columnas es:\", New_Udemy_DF.shape[1])"
   ]
  },
  {
   "cell_type": "code",
   "execution_count": null,
   "id": "ec394060",
   "metadata": {},
   "outputs": [],
   "source": [
    "%%time\n",
    "#Categorias y cuantos hay por cada una en orden descendiente\n",
    "New_Udemy_DF['category'].value_counts().sort_values(ascending = False)"
   ]
  },
  {
   "cell_type": "code",
   "execution_count": null,
   "id": "fd355c9a",
   "metadata": {
    "scrolled": true
   },
   "outputs": [],
   "source": [
    "%%time\n",
    "#Presentemos un gráfico de las categorías y cuantos cursos hay por cada uno, nos puede decir la demanda\n",
    "New_Udemy_DF['category'].value_counts().sort_values(ascending = True).plot(kind = \"barh\")\n",
    "plt.xlabel('Número de cursos')\n",
    "plt.ylabel('categorías') "
   ]
  },
  {
   "cell_type": "code",
   "execution_count": null,
   "id": "004c5cf2",
   "metadata": {},
   "outputs": [],
   "source": [
    "%%time\n",
    "#Gráfica de las subcategorías que pertenecen a la categoria development\n",
    "Devel_DF = New_Udemy_DF[(New_Udemy_DF.category == \"Development\")]\n",
    "Devel_DF['subcategory'].value_counts().sort_values(ascending = True).plot(kind = \"barh\")\n",
    "plt.xlabel('Número de cursos')\n",
    "plt.ylabel('Development') \n",
    "\n",
    "#EXTRA\n",
    "#Web_devel_DF = Devel_DF[(Devel_DF.subcategory == \"Web Development\")]\n",
    "#print(Web_devel_DF['topic'].value_counts())\n",
    "#Devel_DF['language'].value_counts()"
   ]
  },
  {
   "cell_type": "code",
   "execution_count": null,
   "id": "4f1f9088",
   "metadata": {},
   "outputs": [],
   "source": [
    "%%time\n",
    "#Número de cursos pór año \n",
    "New_Udemy_DF['year_update'].value_counts().sort_index(ascending = True)"
   ]
  },
  {
   "cell_type": "code",
   "execution_count": null,
   "id": "185f09ef",
   "metadata": {},
   "outputs": [],
   "source": [
    "%%time\n",
    "#Presentamos una gráfica de la cantidad de coursos por año\n",
    "New_Udemy_DF['published_time'].dt.year.value_counts().sort_index(ascending = True).plot()\n",
    "plt.xlabel('Año')\n",
    "plt.ylabel('Número de cursos ')"
   ]
  },
  {
   "cell_type": "code",
   "execution_count": null,
   "id": "7babce13",
   "metadata": {},
   "outputs": [],
   "source": [
    "#Cuantos subscritores hubo por año\n",
    "\n",
    "#ub= New_Udemy_DF.groupby(by='year_update', as_index=False).agg({'num_subscribers': pd.Series.nunique})\n",
    "sub.head(3)\n",
    "\n",
    "#Ordenando por número de subscritores DESC\n",
    "#New_Udemy_DF = Udemy_DF.sort_values(by = 'num_subscribers', ascending = False)\n",
    "#New_Udemy_DF.head(10)"
   ]
  },
  {
   "cell_type": "code",
   "execution_count": null,
   "id": "85f6ba91",
   "metadata": {},
   "outputs": [],
   "source": [
    "#Vamos a analizar el año en el que aumentaron los cursos, 2021\n",
    "New_Udemy_DF[New_Udemy_DF.published_time].sort_index(ascending = True)"
   ]
  },
  {
   "cell_type": "code",
   "execution_count": null,
   "id": "3cc9f3c4",
   "metadata": {},
   "outputs": [],
   "source": [
    "#los meses con un número mayor y menor de cursos por año"
   ]
  },
  {
   "cell_type": "code",
   "execution_count": null,
   "id": "5d47ce04",
   "metadata": {},
   "outputs": [],
   "source": [
    "New_Udemy_DF[New_Udemy_DF.año]\n",
    "#Categorias.head(5)"
   ]
  },
  {
   "cell_type": "code",
   "execution_count": null,
   "id": "b12bc1c3",
   "metadata": {},
   "outputs": [],
   "source": [
    "\n",
    "Grupos = Udemy_DF.groupby('category')[\"id\"].value_counts()\n",
    "Grupos.head(3)"
   ]
  },
  {
   "cell_type": "code",
   "execution_count": null,
   "id": "03d2cbcf",
   "metadata": {},
   "outputs": [],
   "source": [
    "result = Udemy_DF.groupby(by='category', as_index=False).agg({'id': pd.Series.nunique})\n",
    "print(result)"
   ]
  },
  {
   "cell_type": "code",
   "execution_count": null,
   "id": "ebc94ec5",
   "metadata": {},
   "outputs": [],
   "source": [
    "Udemy_DF.set_index([\"category\"])"
   ]
  },
  {
   "cell_type": "code",
   "execution_count": null,
   "id": "33363780",
   "metadata": {},
   "outputs": [],
   "source": []
  }
 ],
 "metadata": {
  "kernelspec": {
   "display_name": "Python 3 (ipykernel)",
   "language": "python",
   "name": "python3"
  },
  "language_info": {
   "codemirror_mode": {
    "name": "ipython",
    "version": 3
   },
   "file_extension": ".py",
   "mimetype": "text/x-python",
   "name": "python",
   "nbconvert_exporter": "python",
   "pygments_lexer": "ipython3",
   "version": "3.9.15"
  }
 },
 "nbformat": 4,
 "nbformat_minor": 5
}
