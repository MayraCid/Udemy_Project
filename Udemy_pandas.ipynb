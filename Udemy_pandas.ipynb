{
 "cells": [
  {
   "cell_type": "code",
   "execution_count": 1,
   "id": "51b3d35e",
   "metadata": {},
   "outputs": [],
   "source": [
    "import pandas as pd\n",
    "import time\n",
    "from matplotlib import pyplot as plt\n",
    "import datetime"
   ]
  },
  {
   "cell_type": "code",
   "execution_count": 2,
   "id": "e1f4a232",
   "metadata": {},
   "outputs": [
    {
     "name": "stdout",
     "output_type": "stream",
     "text": [
      "id                    float64\n",
      "title                  object\n",
      "is_paid                  bool\n",
      "price                 float64\n",
      "headline               object\n",
      "num_subscribers       float64\n",
      "avg_rating            float64\n",
      "num_reviews           float64\n",
      "num_comments          float64\n",
      "num_lectures          float64\n",
      "content_length_min    float64\n",
      "published_time         object\n",
      "last_update_date       object\n",
      "category               object\n",
      "subcategory            object\n",
      "topic                  object\n",
      "language               object\n",
      "course_url             object\n",
      "instructor_name        object\n",
      "instructor_url         object\n",
      "dtype: object\n",
      "CPU times: total: 3.69 s\n",
      "Wall time: 3.81 s\n"
     ]
    },
    {
     "data": {
      "text/html": [
       "<div>\n",
       "<style scoped>\n",
       "    .dataframe tbody tr th:only-of-type {\n",
       "        vertical-align: middle;\n",
       "    }\n",
       "\n",
       "    .dataframe tbody tr th {\n",
       "        vertical-align: top;\n",
       "    }\n",
       "\n",
       "    .dataframe thead th {\n",
       "        text-align: right;\n",
       "    }\n",
       "</style>\n",
       "<table border=\"1\" class=\"dataframe\">\n",
       "  <thead>\n",
       "    <tr style=\"text-align: right;\">\n",
       "      <th></th>\n",
       "      <th>id</th>\n",
       "      <th>title</th>\n",
       "      <th>is_paid</th>\n",
       "      <th>price</th>\n",
       "      <th>headline</th>\n",
       "      <th>num_subscribers</th>\n",
       "      <th>avg_rating</th>\n",
       "      <th>num_reviews</th>\n",
       "      <th>num_comments</th>\n",
       "      <th>num_lectures</th>\n",
       "      <th>content_length_min</th>\n",
       "      <th>published_time</th>\n",
       "      <th>last_update_date</th>\n",
       "      <th>category</th>\n",
       "      <th>subcategory</th>\n",
       "      <th>topic</th>\n",
       "      <th>language</th>\n",
       "      <th>course_url</th>\n",
       "      <th>instructor_name</th>\n",
       "      <th>instructor_url</th>\n",
       "    </tr>\n",
       "  </thead>\n",
       "  <tbody>\n",
       "    <tr>\n",
       "      <th>0</th>\n",
       "      <td>4715.0</td>\n",
       "      <td>Online Vegan Vegetarian Cooking School</td>\n",
       "      <td>True</td>\n",
       "      <td>24.99</td>\n",
       "      <td>Learn to cook delicious vegan recipes. Filmed ...</td>\n",
       "      <td>2231.0</td>\n",
       "      <td>3.75</td>\n",
       "      <td>134.0</td>\n",
       "      <td>42.0</td>\n",
       "      <td>37.0</td>\n",
       "      <td>1268.0</td>\n",
       "      <td>2010-08-05T22:06:13Z</td>\n",
       "      <td>2020-11-06</td>\n",
       "      <td>Lifestyle</td>\n",
       "      <td>Food &amp; Beverage</td>\n",
       "      <td>Vegan Cooking</td>\n",
       "      <td>English</td>\n",
       "      <td>/course/vegan-vegetarian-cooking-school/</td>\n",
       "      <td>Angela Poch</td>\n",
       "      <td>/user/angelapoch/</td>\n",
       "    </tr>\n",
       "    <tr>\n",
       "      <th>1</th>\n",
       "      <td>1769.0</td>\n",
       "      <td>The Lean Startup Talk at Stanford E-Corner</td>\n",
       "      <td>False</td>\n",
       "      <td>0.00</td>\n",
       "      <td>Debunking Myths of Entrepreneurship A startup ...</td>\n",
       "      <td>26474.0</td>\n",
       "      <td>4.50</td>\n",
       "      <td>709.0</td>\n",
       "      <td>112.0</td>\n",
       "      <td>9.0</td>\n",
       "      <td>88.0</td>\n",
       "      <td>2010-01-12T18:09:46Z</td>\n",
       "      <td>NaN</td>\n",
       "      <td>Business</td>\n",
       "      <td>Entrepreneurship</td>\n",
       "      <td>Lean Startup</td>\n",
       "      <td>English</td>\n",
       "      <td>/course/the-lean-startup-debunking-myths-of-en...</td>\n",
       "      <td>Eric Ries</td>\n",
       "      <td>/user/ericries/</td>\n",
       "    </tr>\n",
       "    <tr>\n",
       "      <th>2</th>\n",
       "      <td>5664.0</td>\n",
       "      <td>How To Become a Vegan, Vegetarian, or Flexitarian</td>\n",
       "      <td>True</td>\n",
       "      <td>19.99</td>\n",
       "      <td>Get the tools you need for a lifestyle change ...</td>\n",
       "      <td>1713.0</td>\n",
       "      <td>4.40</td>\n",
       "      <td>41.0</td>\n",
       "      <td>13.0</td>\n",
       "      <td>14.0</td>\n",
       "      <td>82.0</td>\n",
       "      <td>2010-10-13T18:07:17Z</td>\n",
       "      <td>2019-10-09</td>\n",
       "      <td>Lifestyle</td>\n",
       "      <td>Other Lifestyle</td>\n",
       "      <td>Vegan Cooking</td>\n",
       "      <td>English</td>\n",
       "      <td>/course/see-my-personal-motivation-for-becomin...</td>\n",
       "      <td>Angela Poch</td>\n",
       "      <td>/user/angelapoch/</td>\n",
       "    </tr>\n",
       "    <tr>\n",
       "      <th>3</th>\n",
       "      <td>7723.0</td>\n",
       "      <td>How to Train a Puppy</td>\n",
       "      <td>True</td>\n",
       "      <td>199.99</td>\n",
       "      <td>Train your puppy the right way with Dr. Ian Du...</td>\n",
       "      <td>4988.0</td>\n",
       "      <td>4.80</td>\n",
       "      <td>395.0</td>\n",
       "      <td>88.0</td>\n",
       "      <td>36.0</td>\n",
       "      <td>1511.0</td>\n",
       "      <td>2011-06-20T20:08:38Z</td>\n",
       "      <td>2016-01-13</td>\n",
       "      <td>Lifestyle</td>\n",
       "      <td>Pet Care &amp; Training</td>\n",
       "      <td>Pet Training</td>\n",
       "      <td>English</td>\n",
       "      <td>/course/complete-dunbar-collection/</td>\n",
       "      <td>Ian Dunbar</td>\n",
       "      <td>/user/ian-dunbar/</td>\n",
       "    </tr>\n",
       "    <tr>\n",
       "      <th>4</th>\n",
       "      <td>8157.0</td>\n",
       "      <td>Web Design from the Ground Up</td>\n",
       "      <td>True</td>\n",
       "      <td>159.99</td>\n",
       "      <td>Learn web design online: Everything you need t...</td>\n",
       "      <td>1266.0</td>\n",
       "      <td>4.75</td>\n",
       "      <td>38.0</td>\n",
       "      <td>12.0</td>\n",
       "      <td>38.0</td>\n",
       "      <td>569.0</td>\n",
       "      <td>2011-06-23T18:31:20Z</td>\n",
       "      <td>NaN</td>\n",
       "      <td>Design</td>\n",
       "      <td>Web Design</td>\n",
       "      <td>Web Design</td>\n",
       "      <td>English</td>\n",
       "      <td>/course/web-design-from-the-ground-up/</td>\n",
       "      <td>E Learning Lab</td>\n",
       "      <td>/user/edwin-ang-2/</td>\n",
       "    </tr>\n",
       "  </tbody>\n",
       "</table>\n",
       "</div>"
      ],
      "text/plain": [
       "       id                                              title  is_paid   price  \\\n",
       "0  4715.0             Online Vegan Vegetarian Cooking School     True   24.99   \n",
       "1  1769.0         The Lean Startup Talk at Stanford E-Corner    False    0.00   \n",
       "2  5664.0  How To Become a Vegan, Vegetarian, or Flexitarian     True   19.99   \n",
       "3  7723.0                               How to Train a Puppy     True  199.99   \n",
       "4  8157.0                      Web Design from the Ground Up     True  159.99   \n",
       "\n",
       "                                            headline  num_subscribers  \\\n",
       "0  Learn to cook delicious vegan recipes. Filmed ...           2231.0   \n",
       "1  Debunking Myths of Entrepreneurship A startup ...          26474.0   \n",
       "2  Get the tools you need for a lifestyle change ...           1713.0   \n",
       "3  Train your puppy the right way with Dr. Ian Du...           4988.0   \n",
       "4  Learn web design online: Everything you need t...           1266.0   \n",
       "\n",
       "   avg_rating  num_reviews  num_comments  num_lectures  content_length_min  \\\n",
       "0        3.75        134.0          42.0          37.0              1268.0   \n",
       "1        4.50        709.0         112.0           9.0                88.0   \n",
       "2        4.40         41.0          13.0          14.0                82.0   \n",
       "3        4.80        395.0          88.0          36.0              1511.0   \n",
       "4        4.75         38.0          12.0          38.0               569.0   \n",
       "\n",
       "         published_time last_update_date   category          subcategory  \\\n",
       "0  2010-08-05T22:06:13Z       2020-11-06  Lifestyle      Food & Beverage   \n",
       "1  2010-01-12T18:09:46Z              NaN   Business     Entrepreneurship   \n",
       "2  2010-10-13T18:07:17Z       2019-10-09  Lifestyle      Other Lifestyle   \n",
       "3  2011-06-20T20:08:38Z       2016-01-13  Lifestyle  Pet Care & Training   \n",
       "4  2011-06-23T18:31:20Z              NaN     Design           Web Design   \n",
       "\n",
       "           topic language                                         course_url  \\\n",
       "0  Vegan Cooking  English           /course/vegan-vegetarian-cooking-school/   \n",
       "1   Lean Startup  English  /course/the-lean-startup-debunking-myths-of-en...   \n",
       "2  Vegan Cooking  English  /course/see-my-personal-motivation-for-becomin...   \n",
       "3   Pet Training  English                /course/complete-dunbar-collection/   \n",
       "4     Web Design  English             /course/web-design-from-the-ground-up/   \n",
       "\n",
       "  instructor_name      instructor_url  \n",
       "0     Angela Poch   /user/angelapoch/  \n",
       "1       Eric Ries     /user/ericries/  \n",
       "2     Angela Poch   /user/angelapoch/  \n",
       "3      Ian Dunbar   /user/ian-dunbar/  \n",
       "4  E Learning Lab  /user/edwin-ang-2/  "
      ]
     },
     "execution_count": 2,
     "metadata": {},
     "output_type": "execute_result"
    }
   ],
   "source": [
    "%%time\n",
    "Udemy_DF = pd.read_csv('C:/Users/mayra.cid/Documents/Repositorios/Udemy_Dataset/Course_info.csv')\n",
    "#Tipo de dato por columna\n",
    "print(Udemy_DF.dtypes)\n",
    "Udemy_DF.head(5)"
   ]
  },
  {
   "cell_type": "code",
   "execution_count": 3,
   "id": "8cec3f47",
   "metadata": {},
   "outputs": [
    {
     "name": "stdout",
     "output_type": "stream",
     "text": [
      "CPU times: total: 688 ms\n",
      "Wall time: 684 ms\n"
     ]
    },
    {
     "data": {
      "text/plain": [
       "id                                  int64\n",
       "title                              object\n",
       "is_paid                              bool\n",
       "price                             float64\n",
       "headline                           object\n",
       "num_subscribers                     int64\n",
       "avg_rating                        float64\n",
       "num_reviews                         int64\n",
       "num_comments                        int64\n",
       "num_lectures                        int64\n",
       "content_length_min                  int64\n",
       "published_time        datetime64[ns, UTC]\n",
       "last_update_date           datetime64[ns]\n",
       "category                           object\n",
       "subcategory                        object\n",
       "topic                              object\n",
       "language                           object\n",
       "course_url                         object\n",
       "instructor_name                    object\n",
       "instructor_url                     object\n",
       "dtype: object"
      ]
     },
     "execution_count": 3,
     "metadata": {},
     "output_type": "execute_result"
    }
   ],
   "source": [
    "%%time\n",
    "#Cambio del tipo de dato\n",
    "Udemy_DF['id'] = Udemy_DF['id'].astype('int64') \n",
    "Udemy_DF['num_subscribers'] = Udemy_DF['num_subscribers'].astype('int64')\n",
    "Udemy_DF['num_reviews'] = Udemy_DF['num_reviews'].astype('int64')\n",
    "Udemy_DF['num_comments'] = Udemy_DF['num_comments'].astype('int64')\n",
    "Udemy_DF['num_lectures'] = Udemy_DF['num_lectures'].astype('int64')\n",
    "Udemy_DF['content_length_min'] = Udemy_DF['content_length_min'].astype('int64')\n",
    "Udemy_DF['published_time'] = pd.to_datetime(Udemy_DF['published_time'])\n",
    "Udemy_DF['last_update_date'] = pd.to_datetime(Udemy_DF['last_update_date'])\n",
    "\n",
    "Udemy_DF.dtypes\n",
    "#Udemy_DF.head(19)\n"
   ]
  },
  {
   "cell_type": "code",
   "execution_count": 4,
   "id": "a12e2036",
   "metadata": {},
   "outputs": [],
   "source": [
    "#Insertamos una columna llamada year\n",
    "Udemy_DF[\"year_update\"] = Udemy_DF[\"published_time\"].dt.year"
   ]
  },
  {
   "cell_type": "code",
   "execution_count": 5,
   "id": "6f5af590",
   "metadata": {
    "scrolled": false
   },
   "outputs": [
    {
     "name": "stdout",
     "output_type": "stream",
     "text": [
      "El número de filas es: 209734\n",
      "El número de columnas es: 21\n",
      "CPU times: total: 0 ns\n",
      "Wall time: 58.7 µs\n"
     ]
    }
   ],
   "source": [
    "%%time\n",
    "#Número de filas en el Dataframe\n",
    "print(\"El número de filas es:\", Udemy_DF.shape[0])\n",
    "#Número de columnas en el Dataframe\n",
    "print(\"El número de columnas es:\", Udemy_DF.shape[1])"
   ]
  },
  {
   "cell_type": "code",
   "execution_count": 6,
   "id": "e7cbeb47",
   "metadata": {
    "scrolled": true
   },
   "outputs": [
    {
     "name": "stdout",
     "output_type": "stream",
     "text": [
      "CPU times: total: 453 ms\n",
      "Wall time: 456 ms\n"
     ]
    },
    {
     "data": {
      "text/plain": [
       "id                      0\n",
       "title                   0\n",
       "is_paid                 0\n",
       "price                   0\n",
       "headline               27\n",
       "num_subscribers         0\n",
       "avg_rating              0\n",
       "num_reviews             0\n",
       "num_comments            0\n",
       "num_lectures            0\n",
       "content_length_min      0\n",
       "published_time          0\n",
       "last_update_date      137\n",
       "category                0\n",
       "subcategory             0\n",
       "topic                 958\n",
       "language                0\n",
       "course_url              0\n",
       "instructor_name         5\n",
       "instructor_url        427\n",
       "year_update             0\n",
       "dtype: int64"
      ]
     },
     "execution_count": 6,
     "metadata": {},
     "output_type": "execute_result"
    }
   ],
   "source": [
    "%%time\n",
    "#Veamos cuantos valores nulos hay en cada columna\n",
    "Udemy_DF.isnull().sum()"
   ]
  },
  {
   "cell_type": "code",
   "execution_count": 7,
   "id": "e565ac5d",
   "metadata": {},
   "outputs": [
    {
     "name": "stdout",
     "output_type": "stream",
     "text": [
      "CPU times: total: 78.1 ms\n",
      "Wall time: 49.5 ms\n"
     ]
    },
    {
     "data": {
      "text/html": [
       "<div>\n",
       "<style scoped>\n",
       "    .dataframe tbody tr th:only-of-type {\n",
       "        vertical-align: middle;\n",
       "    }\n",
       "\n",
       "    .dataframe tbody tr th {\n",
       "        vertical-align: top;\n",
       "    }\n",
       "\n",
       "    .dataframe thead th {\n",
       "        text-align: right;\n",
       "    }\n",
       "</style>\n",
       "<table border=\"1\" class=\"dataframe\">\n",
       "  <thead>\n",
       "    <tr style=\"text-align: right;\">\n",
       "      <th></th>\n",
       "      <th>id</th>\n",
       "      <th>title</th>\n",
       "      <th>is_paid</th>\n",
       "      <th>price</th>\n",
       "      <th>headline</th>\n",
       "      <th>num_subscribers</th>\n",
       "      <th>avg_rating</th>\n",
       "      <th>num_reviews</th>\n",
       "      <th>num_comments</th>\n",
       "      <th>num_lectures</th>\n",
       "      <th>...</th>\n",
       "      <th>published_time</th>\n",
       "      <th>last_update_date</th>\n",
       "      <th>category</th>\n",
       "      <th>subcategory</th>\n",
       "      <th>topic</th>\n",
       "      <th>language</th>\n",
       "      <th>course_url</th>\n",
       "      <th>instructor_name</th>\n",
       "      <th>instructor_url</th>\n",
       "      <th>year_update</th>\n",
       "    </tr>\n",
       "  </thead>\n",
       "  <tbody>\n",
       "    <tr>\n",
       "      <th>87</th>\n",
       "      <td>13662</td>\n",
       "      <td>A Journey through Medicine: How to Get into Me...</td>\n",
       "      <td>True</td>\n",
       "      <td>19.99</td>\n",
       "      <td>A tested and proven blueprint to approach the ...</td>\n",
       "      <td>397</td>\n",
       "      <td>4.650000</td>\n",
       "      <td>49</td>\n",
       "      <td>12</td>\n",
       "      <td>50</td>\n",
       "      <td>...</td>\n",
       "      <td>2012-04-27 17:18:10+00:00</td>\n",
       "      <td>NaT</td>\n",
       "      <td>Personal Development</td>\n",
       "      <td>Career Development</td>\n",
       "      <td>College Admissions</td>\n",
       "      <td>English</td>\n",
       "      <td>/course/how-to-get-into-medical-school/</td>\n",
       "      <td>Charles Hoskinson</td>\n",
       "      <td>NaN</td>\n",
       "      <td>2012</td>\n",
       "    </tr>\n",
       "    <tr>\n",
       "      <th>1030</th>\n",
       "      <td>49798</td>\n",
       "      <td>Bitcoin or How I Learned to Stop Worrying and ...</td>\n",
       "      <td>False</td>\n",
       "      <td>0.00</td>\n",
       "      <td>The definitive guide to understand what the bi...</td>\n",
       "      <td>111991</td>\n",
       "      <td>4.583334</td>\n",
       "      <td>3364</td>\n",
       "      <td>626</td>\n",
       "      <td>25</td>\n",
       "      <td>...</td>\n",
       "      <td>2013-04-20 02:25:22+00:00</td>\n",
       "      <td>2013-10-30</td>\n",
       "      <td>Finance &amp; Accounting</td>\n",
       "      <td>Cryptocurrency &amp; Blockchain</td>\n",
       "      <td>Bitcoin</td>\n",
       "      <td>English</td>\n",
       "      <td>/course/bitcoin-or-how-i-learned-to-stop-worry...</td>\n",
       "      <td>Charles Hoskinson</td>\n",
       "      <td>NaN</td>\n",
       "      <td>2013</td>\n",
       "    </tr>\n",
       "    <tr>\n",
       "      <th>1433</th>\n",
       "      <td>64585</td>\n",
       "      <td>Gospel Piano Essentials</td>\n",
       "      <td>True</td>\n",
       "      <td>29.99</td>\n",
       "      <td>Essential training designed to take you gospel...</td>\n",
       "      <td>1816</td>\n",
       "      <td>4.400000</td>\n",
       "      <td>162</td>\n",
       "      <td>59</td>\n",
       "      <td>46</td>\n",
       "      <td>...</td>\n",
       "      <td>2013-07-11 23:06:29+00:00</td>\n",
       "      <td>2013-07-11</td>\n",
       "      <td>Music</td>\n",
       "      <td>Instruments</td>\n",
       "      <td>Gospel Piano</td>\n",
       "      <td>English</td>\n",
       "      <td>/course/gospel-piano-essentials/</td>\n",
       "      <td>Darrell Cook</td>\n",
       "      <td>NaN</td>\n",
       "      <td>2013</td>\n",
       "    </tr>\n",
       "    <tr>\n",
       "      <th>1881</th>\n",
       "      <td>92568</td>\n",
       "      <td>Curso Final Cut Pro X</td>\n",
       "      <td>True</td>\n",
       "      <td>19.99</td>\n",
       "      <td>Curso sobre Final Cut Pro X, basado en el libr...</td>\n",
       "      <td>260</td>\n",
       "      <td>4.000000</td>\n",
       "      <td>37</td>\n",
       "      <td>11</td>\n",
       "      <td>87</td>\n",
       "      <td>...</td>\n",
       "      <td>2014-01-26 18:48:13+00:00</td>\n",
       "      <td>2014-01-21</td>\n",
       "      <td>Design</td>\n",
       "      <td>Design Tools</td>\n",
       "      <td>Final Cut Pro</td>\n",
       "      <td>Spanish</td>\n",
       "      <td>/course/curso-final-cut-pro-x/</td>\n",
       "      <td>Ruben Fontela</td>\n",
       "      <td>NaN</td>\n",
       "      <td>2014</td>\n",
       "    </tr>\n",
       "  </tbody>\n",
       "</table>\n",
       "<p>4 rows × 21 columns</p>\n",
       "</div>"
      ],
      "text/plain": [
       "         id                                              title  is_paid  \\\n",
       "87    13662  A Journey through Medicine: How to Get into Me...     True   \n",
       "1030  49798  Bitcoin or How I Learned to Stop Worrying and ...    False   \n",
       "1433  64585                            Gospel Piano Essentials     True   \n",
       "1881  92568                              Curso Final Cut Pro X     True   \n",
       "\n",
       "      price                                           headline  \\\n",
       "87    19.99  A tested and proven blueprint to approach the ...   \n",
       "1030   0.00  The definitive guide to understand what the bi...   \n",
       "1433  29.99  Essential training designed to take you gospel...   \n",
       "1881  19.99  Curso sobre Final Cut Pro X, basado en el libr...   \n",
       "\n",
       "      num_subscribers  avg_rating  num_reviews  num_comments  num_lectures  \\\n",
       "87                397    4.650000           49            12            50   \n",
       "1030           111991    4.583334         3364           626            25   \n",
       "1433             1816    4.400000          162            59            46   \n",
       "1881              260    4.000000           37            11            87   \n",
       "\n",
       "      ...            published_time last_update_date              category  \\\n",
       "87    ... 2012-04-27 17:18:10+00:00              NaT  Personal Development   \n",
       "1030  ... 2013-04-20 02:25:22+00:00       2013-10-30  Finance & Accounting   \n",
       "1433  ... 2013-07-11 23:06:29+00:00       2013-07-11                 Music   \n",
       "1881  ... 2014-01-26 18:48:13+00:00       2014-01-21                Design   \n",
       "\n",
       "                      subcategory               topic language  \\\n",
       "87             Career Development  College Admissions  English   \n",
       "1030  Cryptocurrency & Blockchain             Bitcoin  English   \n",
       "1433                  Instruments        Gospel Piano  English   \n",
       "1881                 Design Tools       Final Cut Pro  Spanish   \n",
       "\n",
       "                                             course_url    instructor_name  \\\n",
       "87              /course/how-to-get-into-medical-school/  Charles Hoskinson   \n",
       "1030  /course/bitcoin-or-how-i-learned-to-stop-worry...  Charles Hoskinson   \n",
       "1433                   /course/gospel-piano-essentials/       Darrell Cook   \n",
       "1881                     /course/curso-final-cut-pro-x/      Ruben Fontela   \n",
       "\n",
       "     instructor_url year_update  \n",
       "87              NaN        2012  \n",
       "1030            NaN        2013  \n",
       "1433            NaN        2013  \n",
       "1881            NaN        2014  \n",
       "\n",
       "[4 rows x 21 columns]"
      ]
     },
     "execution_count": 7,
     "metadata": {},
     "output_type": "execute_result"
    }
   ],
   "source": [
    "%%time\n",
    "#Vamos a mostar aquellos que tienen datos nulos\n",
    "Udemy_DF[Udemy_DF.instructor_url.isnull()].head(4)"
   ]
  },
  {
   "cell_type": "code",
   "execution_count": 8,
   "id": "bc0af01d",
   "metadata": {},
   "outputs": [
    {
     "data": {
      "text/html": [
       "<div>\n",
       "<style scoped>\n",
       "    .dataframe tbody tr th:only-of-type {\n",
       "        vertical-align: middle;\n",
       "    }\n",
       "\n",
       "    .dataframe tbody tr th {\n",
       "        vertical-align: top;\n",
       "    }\n",
       "\n",
       "    .dataframe thead th {\n",
       "        text-align: right;\n",
       "    }\n",
       "</style>\n",
       "<table border=\"1\" class=\"dataframe\">\n",
       "  <thead>\n",
       "    <tr style=\"text-align: right;\">\n",
       "      <th></th>\n",
       "      <th>id</th>\n",
       "      <th>title</th>\n",
       "      <th>is_paid</th>\n",
       "      <th>price</th>\n",
       "      <th>headline</th>\n",
       "      <th>num_subscribers</th>\n",
       "      <th>avg_rating</th>\n",
       "      <th>num_reviews</th>\n",
       "      <th>num_comments</th>\n",
       "      <th>num_lectures</th>\n",
       "      <th>...</th>\n",
       "      <th>published_time</th>\n",
       "      <th>last_update_date</th>\n",
       "      <th>category</th>\n",
       "      <th>subcategory</th>\n",
       "      <th>topic</th>\n",
       "      <th>language</th>\n",
       "      <th>course_url</th>\n",
       "      <th>instructor_name</th>\n",
       "      <th>instructor_url</th>\n",
       "      <th>year_update</th>\n",
       "    </tr>\n",
       "  </thead>\n",
       "  <tbody>\n",
       "    <tr>\n",
       "      <th>3599</th>\n",
       "      <td>205502</td>\n",
       "      <td>Publish your own \"4 Pics 1 Word\" iPhone Game C...</td>\n",
       "      <td>True</td>\n",
       "      <td>19.99</td>\n",
       "      <td>All Detailed Steps to Publish a Money Making i...</td>\n",
       "      <td>285</td>\n",
       "      <td>3.2</td>\n",
       "      <td>5</td>\n",
       "      <td>3</td>\n",
       "      <td>32</td>\n",
       "      <td>...</td>\n",
       "      <td>2014-04-27 17:01:25+00:00</td>\n",
       "      <td>2019-07-25</td>\n",
       "      <td>Development</td>\n",
       "      <td>Mobile Development</td>\n",
       "      <td>iOS Game Development</td>\n",
       "      <td>English</td>\n",
       "      <td>/course/publish-your-own-4-pics-1-word-iphone-...</td>\n",
       "      <td>Yohann Taieb</td>\n",
       "      <td>/user/yohanntaieb/</td>\n",
       "      <td>2014</td>\n",
       "    </tr>\n",
       "  </tbody>\n",
       "</table>\n",
       "<p>1 rows × 21 columns</p>\n",
       "</div>"
      ],
      "text/plain": [
       "          id                                              title  is_paid  \\\n",
       "3599  205502  Publish your own \"4 Pics 1 Word\" iPhone Game C...     True   \n",
       "\n",
       "      price                                           headline  \\\n",
       "3599  19.99  All Detailed Steps to Publish a Money Making i...   \n",
       "\n",
       "      num_subscribers  avg_rating  num_reviews  num_comments  num_lectures  \\\n",
       "3599              285         3.2            5             3            32   \n",
       "\n",
       "      ...            published_time last_update_date     category  \\\n",
       "3599  ... 2014-04-27 17:01:25+00:00       2019-07-25  Development   \n",
       "\n",
       "             subcategory                 topic language  \\\n",
       "3599  Mobile Development  iOS Game Development  English   \n",
       "\n",
       "                                             course_url instructor_name  \\\n",
       "3599  /course/publish-your-own-4-pics-1-word-iphone-...    Yohann Taieb   \n",
       "\n",
       "          instructor_url year_update  \n",
       "3599  /user/yohanntaieb/        2014  \n",
       "\n",
       "[1 rows x 21 columns]"
      ]
     },
     "execution_count": 8,
     "metadata": {},
     "output_type": "execute_result"
    }
   ],
   "source": [
    "#Se puede ver algunos renglones\n",
    "#Udemy_DF[Udemy_DF.content_length_min == 'null']\n",
    "Udemy_DF[Udemy_DF.id == 205502]\n",
    "#print(Udemy_DF['is_paid'].loc[Udemy_DF.index[3599]])"
   ]
  },
  {
   "cell_type": "code",
   "execution_count": 9,
   "id": "c287d82d",
   "metadata": {},
   "outputs": [
    {
     "name": "stdout",
     "output_type": "stream",
     "text": [
      "CPU times: total: 672 ms\n",
      "Wall time: 673 ms\n"
     ]
    }
   ],
   "source": [
    "%%time\n",
    "#Eliminando datos nulos y definiendo nuevo DF\n",
    "New_Udemy_DF = Udemy_DF.dropna()"
   ]
  },
  {
   "cell_type": "code",
   "execution_count": 10,
   "id": "4fbd3409",
   "metadata": {},
   "outputs": [
    {
     "name": "stdout",
     "output_type": "stream",
     "text": [
      "El número de filas es: 208190\n",
      "El número de columnas es: 21\n",
      "CPU times: total: 0 ns\n",
      "Wall time: 0 ns\n"
     ]
    }
   ],
   "source": [
    "%%time\n",
    "#Corroborando que se eliminaron las filas\n",
    "#Número de filas en el Dataframe\n",
    "print(\"El número de filas es:\", New_Udemy_DF.shape[0])\n",
    "#Número de columnas en el Dataframe\n",
    "print(\"El número de columnas es:\", New_Udemy_DF.shape[1])"
   ]
  },
  {
   "cell_type": "code",
   "execution_count": 11,
   "id": "ec394060",
   "metadata": {},
   "outputs": [
    {
     "name": "stdout",
     "output_type": "stream",
     "text": [
      "CPU times: total: 62.5 ms\n",
      "Wall time: 49.3 ms\n"
     ]
    },
    {
     "data": {
      "text/plain": [
       "Development             31476\n",
       "IT & Software           30103\n",
       "Teaching & Academics    26099\n",
       "Business                24482\n",
       "Personal Development    21109\n",
       "Design                  15168\n",
       "Health & Fitness        11471\n",
       "Marketing               11153\n",
       "Lifestyle               10576\n",
       "Finance & Accounting    10488\n",
       "Office Productivity      6258\n",
       "Music                    5961\n",
       "Photography & Video      3846\n",
       "Name: category, dtype: int64"
      ]
     },
     "execution_count": 11,
     "metadata": {},
     "output_type": "execute_result"
    }
   ],
   "source": [
    "%%time\n",
    "#Categorias y cuantos hay por cada una en orden descendiente\n",
    "New_Udemy_DF['category'].value_counts().sort_values(ascending = False)"
   ]
  },
  {
   "cell_type": "code",
   "execution_count": 12,
   "id": "fd355c9a",
   "metadata": {
    "scrolled": true
   },
   "outputs": [
    {
     "name": "stdout",
     "output_type": "stream",
     "text": [
      "CPU times: total: 203 ms\n",
      "Wall time: 264 ms\n"
     ]
    },
    {
     "data": {
      "text/plain": [
       "Text(0, 0.5, 'categorías')"
      ]
     },
     "execution_count": 12,
     "metadata": {},
     "output_type": "execute_result"
    },
    {
     "data": {
      "image/png": "[encoded data removed]",
      "text/plain": [
       "<Figure size 640x480 with 1 Axes>"
      ]
     },
     "metadata": {},
     "output_type": "display_data"
    }
   ],
   "source": [
    "%%time\n",
    "#Presentemos un gráfico de las categorías y cuantos cursos hay por cada uno, nos puede decir la demanda\n",
    "New_Udemy_DF['category'].value_counts().sort_values(ascending = True).plot(kind = \"barh\")\n",
    "plt.xlabel('Número de cursos')\n",
    "plt.ylabel('categorías') "
   ]
  },
  {
   "cell_type": "code",
   "execution_count": 13,
   "id": "004c5cf2",
   "metadata": {},
   "outputs": [
    {
     "name": "stdout",
     "output_type": "stream",
     "text": [
      "CPU times: total: 141 ms\n",
      "Wall time: 132 ms\n"
     ]
    },
    {
     "data": {
      "text/plain": [
       "Text(0, 0.5, 'Development')"
      ]
     },
     "execution_count": 13,
     "metadata": {},
     "output_type": "execute_result"
    },
    {
     "data": {
      "image/png": "[encoded data removed]",
      "text/plain": [
       "<Figure size 640x480 with 1 Axes>"
      ]
     },
     "metadata": {},
     "output_type": "display_data"
    }
   ],
   "source": [
    "%%time\n",
    "#Gráfica de las subcategorías que pertenecen a la categoria development\n",
    "Devel_DF = New_Udemy_DF[(New_Udemy_DF.category == \"Development\")]\n",
    "Devel_DF['subcategory'].value_counts().sort_values(ascending = True).plot(kind = \"barh\")\n",
    "plt.xlabel('Número de cursos')\n",
    "plt.ylabel('Development') \n",
    "\n",
    "#EXTRA\n",
    "#Web_devel_DF = Devel_DF[(Devel_DF.subcategory == \"Web Development\")]\n",
    "#print(Web_devel_DF['topic'].value_counts())\n",
    "#Devel_DF['language'].value_counts()"
   ]
  },
  {
   "cell_type": "code",
   "execution_count": null,
   "id": "4f1f9088",
   "metadata": {},
   "outputs": [],
   "source": [
    "%%time\n",
    "#Número de cursos pór año \n",
    "New_Udemy_DF['year_update'].value_counts().sort_index(ascending = True)"
   ]
  },
  {
   "cell_type": "code",
   "execution_count": null,
   "id": "185f09ef",
   "metadata": {},
   "outputs": [],
   "source": [
    "%%time\n",
    "#Presentamos una gráfica de la cantidad de coursos por año\n",
    "New_Udemy_DF['published_time'].dt.year.value_counts().sort_index(ascending = True).plot()\n",
    "plt.xlabel('Año')\n",
    "plt.ylabel('Número de cursos ')"
   ]
  },
  {
   "cell_type": "code",
   "execution_count": null,
   "id": "7babce13",
   "metadata": {},
   "outputs": [],
   "source": [
    "#Cuantos subscritores hubo por año\n",
    "\n",
    "#ub= New_Udemy_DF.groupby(by='year_update', as_index=False).agg({'num_subscribers': pd.Series.nunique})\n",
    "sub.head(3)\n",
    "\n",
    "#Ordenando por número de subscritores DESC\n",
    "#New_Udemy_DF = Udemy_DF.sort_values(by = 'num_subscribers', ascending = False)\n",
    "#New_Udemy_DF.head(10)"
   ]
  },
  {
   "cell_type": "code",
   "execution_count": null,
   "id": "85f6ba91",
   "metadata": {},
   "outputs": [],
   "source": [
    "#Vamos a analizar el año en el que aumentaron los cursos, 2021\n",
    "New_Udemy_DF[New_Udemy_DF.published_time].sort_index(ascending = True)"
   ]
  },
  {
   "cell_type": "code",
   "execution_count": null,
   "id": "3cc9f3c4",
   "metadata": {},
   "outputs": [],
   "source": [
    "#los meses con un número mayor y menor de cursos por año"
   ]
  },
  {
   "cell_type": "code",
   "execution_count": null,
   "id": "5d47ce04",
   "metadata": {},
   "outputs": [],
   "source": [
    "New_Udemy_DF[New_Udemy_DF.año]\n",
    "#Categorias.head(5)"
   ]
  },
  {
   "cell_type": "code",
   "execution_count": null,
   "id": "b12bc1c3",
   "metadata": {},
   "outputs": [],
   "source": [
    "\n",
    "Grupos = Udemy_DF.groupby('category')[\"id\"].value_counts()\n",
    "Grupos.head(3)"
   ]
  },
  {
   "cell_type": "code",
   "execution_count": null,
   "id": "03d2cbcf",
   "metadata": {},
   "outputs": [],
   "source": [
    "result = Udemy_DF.groupby(by='category', as_index=False).agg({'id': pd.Series.nunique})\n",
    "print(result)"
   ]
  },
  {
   "cell_type": "code",
   "execution_count": null,
   "id": "ebc94ec5",
   "metadata": {},
   "outputs": [],
   "source": [
    "Udemy_DF.set_index([\"category\"])"
   ]
  },
  {
   "cell_type": "code",
   "execution_count": null,
   "id": "33363780",
   "metadata": {},
   "outputs": [],
   "source": []
  }
 ],
 "metadata": {
  "kernelspec": {
   "display_name": "Python 3 (ipykernel)",
   "language": "python",
   "name": "python3"
  },
  "language_info": {
   "codemirror_mode": {
    "name": "ipython",
    "version": 3
   },
   "file_extension": ".py",
   "mimetype": "text/x-python",
   "name": "python",
   "nbconvert_exporter": "python",
   "pygments_lexer": "ipython3",
   "version": "3.9.15"
  }
 },
 "nbformat": 4,
 "nbformat_minor": 5
}
